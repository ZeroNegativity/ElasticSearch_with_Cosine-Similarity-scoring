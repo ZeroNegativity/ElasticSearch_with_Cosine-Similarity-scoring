{
 "cells": [
  {
   "cell_type": "code",
   "execution_count": 89,
   "id": "b33adf44",
   "metadata": {},
   "outputs": [],
   "source": [
    "from elasticsearch import Elasticsearch\n",
    "from elasticsearch.helpers import bulk, parallel_bulk\n",
    "from sentence_transformers import SentenceTransformer, util\n",
    "import ir_measures\n",
    "from ir_measures import *\n",
    "import pandas as pd\n",
    "import json\n",
    "from tqdm import tqdm\n",
    "import numpy as np"
   ]
  },
  {
   "cell_type": "markdown",
   "id": "2d71160b",
   "metadata": {},
   "source": [
    "## Elastic Search Connection"
   ]
  },
  {
   "cell_type": "code",
   "execution_count": 45,
   "id": "8cb16a91",
   "metadata": {},
   "outputs": [],
   "source": [
    "elastic_search = Elasticsearch('http://localhost:9200')\n"
   ]
  },
  {
   "cell_type": "markdown",
   "id": "84f8bdef",
   "metadata": {},
   "source": [
    "## Index Configuration for Elastic Search"
   ]
  },
  {
   "cell_type": "code",
   "execution_count": 46,
   "id": "0a45aa93",
   "metadata": {},
   "outputs": [
    {
     "name": "stderr",
     "output_type": "stream",
     "text": [
      "C:\\Users\\kuany\\AppData\\Local\\Temp\\ipykernel_9276\\2775501348.py:28: ElasticsearchWarning: Elasticsearch built-in security features are not enabled. Without authentication, your cluster could be accessible to anyone. See https://www.elastic.co/guide/en/elasticsearch/reference/7.15/security-minimal-setup.html to enable security.\n",
      "  if elastic_search.indices.exists(index='wikiir'):\n",
      "C:\\Users\\kuany\\AppData\\Local\\Temp\\ipykernel_9276\\2775501348.py:29: ElasticsearchWarning: Elasticsearch built-in security features are not enabled. Without authentication, your cluster could be accessible to anyone. See https://www.elastic.co/guide/en/elasticsearch/reference/7.15/security-minimal-setup.html to enable security.\n",
      "  elastic_search.indices.delete(index='wikiir')\n",
      "C:\\Users\\kuany\\AppData\\Local\\Temp\\ipykernel_9276\\2775501348.py:30: ElasticsearchWarning: Elasticsearch built-in security features are not enabled. Without authentication, your cluster could be accessible to anyone. See https://www.elastic.co/guide/en/elasticsearch/reference/7.15/security-minimal-setup.html to enable security.\n",
      "  elastic_search.indices.create(index='wikiir', settings=sett, mappings=mapp)\n"
     ]
    },
    {
     "data": {
      "text/plain": [
       "ObjectApiResponse({'acknowledged': True, 'shards_acknowledged': True, 'index': 'wikiir'})"
      ]
     },
     "execution_count": 46,
     "metadata": {},
     "output_type": "execute_result"
    }
   ],
   "source": [
    "mapp = {\n",
    "    'properties': {\n",
    "        'text': {\n",
    "            'type': 'text',\n",
    "            'analyzer': 'white'\n",
    "        }\n",
    "    }\n",
    "}\n",
    "\n",
    "sett = {\n",
    "    \"number_of_shards\" : 5,\n",
    "    'index' : {\n",
    "        'similarity' : {\n",
    "          'default' : {\n",
    "            'type' : 'BM25'   # default config\n",
    "          }\n",
    "        }\n",
    "    },\n",
    "    'analysis' : {\n",
    "        'analyzer' : {\n",
    "            'white' : {\n",
    "                'tokenizer' : 'whitespace'\n",
    "            }\n",
    "        }\n",
    "    }\n",
    "}\n",
    "\n",
    "if elastic_search.indices.exists(index='wikiir'):\n",
    "    elastic_search.indices.delete(index='wikiir')\n",
    "elastic_search.indices.create(index='wikiir', settings=sett, mappings=mapp)\n"
   ]
  },
  {
   "cell_type": "markdown",
   "id": "447b5087",
   "metadata": {},
   "source": [
    "## WikiIR Collection Document Reading"
   ]
  },
  {
   "cell_type": "code",
   "execution_count": 47,
   "id": "ea0d3d70",
   "metadata": {},
   "outputs": [
    {
     "name": "stdout",
     "output_type": "stream",
     "text": [
      "(369721, 2)\n"
     ]
    },
    {
     "data": {
      "text/html": [
       "<div>\n",
       "<style scoped>\n",
       "    .dataframe tbody tr th:only-of-type {\n",
       "        vertical-align: middle;\n",
       "    }\n",
       "\n",
       "    .dataframe tbody tr th {\n",
       "        vertical-align: top;\n",
       "    }\n",
       "\n",
       "    .dataframe thead th {\n",
       "        text-align: right;\n",
       "    }\n",
       "</style>\n",
       "<table border=\"1\" class=\"dataframe\">\n",
       "  <thead>\n",
       "    <tr style=\"text-align: right;\">\n",
       "      <th></th>\n",
       "      <th>id_right</th>\n",
       "      <th>text_right</th>\n",
       "    </tr>\n",
       "  </thead>\n",
       "  <tbody>\n",
       "    <tr>\n",
       "      <th>0</th>\n",
       "      <td>1781133</td>\n",
       "      <td>it was used in landing craft during world war ...</td>\n",
       "    </tr>\n",
       "    <tr>\n",
       "      <th>1</th>\n",
       "      <td>2426736</td>\n",
       "      <td>after rejecting an offer from cambridge univer...</td>\n",
       "    </tr>\n",
       "    <tr>\n",
       "      <th>2</th>\n",
       "      <td>2224122</td>\n",
       "      <td>mat zan coached kuala lumpur fa in 1999 and wo...</td>\n",
       "    </tr>\n",
       "    <tr>\n",
       "      <th>3</th>\n",
       "      <td>219642</td>\n",
       "      <td>a barcode is a machine readable optical label ...</td>\n",
       "    </tr>\n",
       "    <tr>\n",
       "      <th>4</th>\n",
       "      <td>1728654</td>\n",
       "      <td>since the subordination of the monarchy under ...</td>\n",
       "    </tr>\n",
       "  </tbody>\n",
       "</table>\n",
       "</div>"
      ],
      "text/plain": [
       "   id_right                                         text_right\n",
       "0   1781133  it was used in landing craft during world war ...\n",
       "1   2426736  after rejecting an offer from cambridge univer...\n",
       "2   2224122  mat zan coached kuala lumpur fa in 1999 and wo...\n",
       "3    219642  a barcode is a machine readable optical label ...\n",
       "4   1728654  since the subordination of the monarchy under ..."
      ]
     },
     "execution_count": 47,
     "metadata": {},
     "output_type": "execute_result"
    }
   ],
   "source": [
    "df = pd.read_csv('documents.csv')\n",
    "\n",
    "print(df.shape)\n",
    "df.head()"
   ]
  },
  {
   "cell_type": "markdown",
   "id": "71896fd6",
   "metadata": {},
   "source": [
    "## Indexing the documents using by Using Elastic Search"
   ]
  },
  {
   "cell_type": "code",
   "execution_count": 48,
   "id": "7fad11be",
   "metadata": {},
   "outputs": [
    {
     "name": "stderr",
     "output_type": "stream",
     "text": [
      "  2%|▌                             | 6216/369721 [00:00<00:28, 12939.09it/s]                                           D:\\Conda\\lib\\multiprocessing\\pool.py:125: ElasticsearchWarning: Elasticsearch built-in security features are not enabled. Without authentication, your cluster could be accessible to anyone. See https://www.elastic.co/guide/en/elasticsearch/reference/7.15/security-minimal-setup.html to enable security.\n",
      "  result = (True, func(*args, **kwds))\n",
      "100%|██████████████████████████████| 369721/369721 [00:40<00:00, 9106.94it/s]                                          \n",
      "C:\\Users\\kuany\\AppData\\Local\\Temp\\ipykernel_9276\\4175655415.py:21: ElasticsearchWarning: Elasticsearch built-in security features are not enabled. Without authentication, your cluster could be accessible to anyone. See https://www.elastic.co/guide/en/elasticsearch/reference/7.15/security-minimal-setup.html to enable security.\n",
      "  elastic_search.indices.refresh(index='wikiir')\n",
      "C:\\Users\\kuany\\AppData\\Local\\Temp\\ipykernel_9276\\4175655415.py:22: ElasticsearchWarning: Elasticsearch built-in security features are not enabled. Without authentication, your cluster could be accessible to anyone. See https://www.elastic.co/guide/en/elasticsearch/reference/7.15/security-minimal-setup.html to enable security.\n",
      "  elastic_search.cat.count(index='wikiir', format='json')\n"
     ]
    },
    {
     "data": {
      "text/plain": [
       "ListApiResponse([{'epoch': '1680446251', 'timestamp': '14:37:31', 'count': '369721'}])"
      ]
     },
     "execution_count": 48,
     "metadata": {},
     "output_type": "execute_result"
    }
   ],
   "source": [
    "def create_es_action(index, doc_id, document):\n",
    "    return {\n",
    "        '_index': index,\n",
    "        '_id': doc_id,\n",
    "        '_source': document\n",
    "    }\n",
    "\n",
    "\n",
    "def es_action_generator(df):\n",
    "    for doc_id, row in tqdm(df.iterrows(), total=df.shape[0], bar_format='{l_bar}{bar:30}{r_bar}{bar:-10b}'):\n",
    "        doc = {\n",
    "            'text': row['text_right'],\n",
    "        }\n",
    "        yield create_es_action('wikiir', row['id_right'], doc)\n",
    "        \n",
    "\n",
    "for ok, result in parallel_bulk(elastic_search, es_action_generator(df), queue_size=4, thread_count=4, chunk_size=1000):\n",
    "    if not ok:\n",
    "        print(result)\n",
    "\n",
    "elastic_search.indices.refresh(index='wikiir')\n",
    "elastic_search.cat.count(index='wikiir', format='json')\n"
   ]
  },
  {
   "cell_type": "markdown",
   "id": "66aa1e5f",
   "metadata": {},
   "source": [
    "## Testing query"
   ]
  },
  {
   "cell_type": "code",
   "execution_count": 49,
   "id": "861e216f",
   "metadata": {},
   "outputs": [
    {
     "data": {
      "text/html": [
       "<div>\n",
       "<style scoped>\n",
       "    .dataframe tbody tr th:only-of-type {\n",
       "        vertical-align: middle;\n",
       "    }\n",
       "\n",
       "    .dataframe tbody tr th {\n",
       "        vertical-align: top;\n",
       "    }\n",
       "\n",
       "    .dataframe thead th {\n",
       "        text-align: right;\n",
       "    }\n",
       "</style>\n",
       "<table border=\"1\" class=\"dataframe\">\n",
       "  <thead>\n",
       "    <tr style=\"text-align: right;\">\n",
       "      <th></th>\n",
       "      <th>id_left</th>\n",
       "      <th>text_left</th>\n",
       "    </tr>\n",
       "  </thead>\n",
       "  <tbody>\n",
       "    <tr>\n",
       "      <th>0</th>\n",
       "      <td>158491</td>\n",
       "      <td>southern methodist university</td>\n",
       "    </tr>\n",
       "    <tr>\n",
       "      <th>1</th>\n",
       "      <td>5728</td>\n",
       "      <td>halakha</td>\n",
       "    </tr>\n",
       "    <tr>\n",
       "      <th>2</th>\n",
       "      <td>13554</td>\n",
       "      <td>chief justice of the united states</td>\n",
       "    </tr>\n",
       "    <tr>\n",
       "      <th>3</th>\n",
       "      <td>32674</td>\n",
       "      <td>patsy cline</td>\n",
       "    </tr>\n",
       "    <tr>\n",
       "      <th>4</th>\n",
       "      <td>406391</td>\n",
       "      <td>dierks bentley</td>\n",
       "    </tr>\n",
       "    <tr>\n",
       "      <th>...</th>\n",
       "      <td>...</td>\n",
       "      <td>...</td>\n",
       "    </tr>\n",
       "    <tr>\n",
       "      <th>95</th>\n",
       "      <td>679227</td>\n",
       "      <td>hiv aids</td>\n",
       "    </tr>\n",
       "    <tr>\n",
       "      <th>96</th>\n",
       "      <td>2136797</td>\n",
       "      <td>maren morris</td>\n",
       "    </tr>\n",
       "    <tr>\n",
       "      <th>97</th>\n",
       "      <td>5622</td>\n",
       "      <td>homer</td>\n",
       "    </tr>\n",
       "    <tr>\n",
       "      <th>98</th>\n",
       "      <td>1313598</td>\n",
       "      <td>south pole</td>\n",
       "    </tr>\n",
       "    <tr>\n",
       "      <th>99</th>\n",
       "      <td>712704</td>\n",
       "      <td>west indies</td>\n",
       "    </tr>\n",
       "  </tbody>\n",
       "</table>\n",
       "<p>100 rows × 2 columns</p>\n",
       "</div>"
      ],
      "text/plain": [
       "    id_left                           text_left\n",
       "0    158491       southern methodist university\n",
       "1      5728                             halakha\n",
       "2     13554  chief justice of the united states\n",
       "3     32674                         patsy cline\n",
       "4    406391                      dierks bentley\n",
       "..      ...                                 ...\n",
       "95   679227                            hiv aids\n",
       "96  2136797                        maren morris\n",
       "97     5622                               homer\n",
       "98  1313598                          south pole\n",
       "99   712704                         west indies\n",
       "\n",
       "[100 rows x 2 columns]"
      ]
     },
     "execution_count": 49,
     "metadata": {},
     "output_type": "execute_result"
    }
   ],
   "source": [
    "testing = pd.read_csv('wikIR1k/test/queries.csv')\n",
    "testing"
   ]
  },
  {
   "cell_type": "markdown",
   "id": "3241b2df",
   "metadata": {},
   "source": [
    "## BM25 scoring document creation"
   ]
  },
  {
   "cell_type": "code",
   "execution_count": 50,
   "id": "fb1cab74",
   "metadata": {},
   "outputs": [
    {
     "name": "stdout",
     "output_type": "stream",
     "text": [
      "Query ID: 158491\n",
      "Text of Query: southern methodist university\n",
      "Doc 1880296, score is 17.230719\n",
      "Doc 607552, score is 17.198406\n",
      "Doc 2261272, score is 17.183655\n",
      "Doc 1957435, score is 16.908918\n",
      "Doc 625257, score is 16.856976\n",
      "Doc 635537, score is 16.771313\n",
      "Doc 1774491, score is 16.640131\n",
      "Doc 663828, score is 16.487574\n",
      "Doc 158491, score is 15.997955\n",
      "Doc 1956922, score is 15.973572\n",
      "Doc 1180246, score is 15.590252\n",
      "Doc 1170039, score is 15.534702\n",
      "Doc 945068, score is 15.526761\n",
      "Doc 360918, score is 15.501228\n",
      "Doc 589549, score is 15.501228\n",
      "Doc 685181, score is 15.335788\n",
      "Doc 2411344, score is 15.325968\n",
      "Doc 1158969, score is 15.273922\n",
      "Doc 1093529, score is 15.163386\n",
      "Doc 742912, score is 15.109789\n"
     ]
    },
    {
     "name": "stderr",
     "output_type": "stream",
     "text": [
      "C:\\Users\\kuany\\AppData\\Local\\Temp\\ipykernel_9276\\3993421522.py:13: ElasticsearchWarning: Elasticsearch built-in security features are not enabled. Without authentication, your cluster could be accessible to anyone. See https://www.elastic.co/guide/en/elasticsearch/reference/7.15/security-minimal-setup.html to enable security.\n",
      "  return pretty_print_result(es.search(index='wikiir', query=query, size=20), args)\n"
     ]
    }
   ],
   "source": [
    "global res\n",
    "\n",
    "def pretty_print_result(search_result, scoring=[]): # make a pretty printing\n",
    "    global res\n",
    "    res = search_result['hits']\n",
    "    for hit in res['hits']:\n",
    "        print(f'Doc {hit[\"_id\"]}, score is {hit[\"_score\"]}')\n",
    "        for score in scoring:\n",
    "            print(f'{score}: {hit[\"_source\"][score]}')\n",
    "    \n",
    "    \n",
    "def search(query, *args):             #searches document in the whole buffer of documents(train) and retrieves top 20 documents from the train set according to the rank of query in that document \n",
    "    return pretty_print_result(elastic_search.search(index='wikiir', query=query, size=20), args)\n",
    "\n",
    "\n",
    "def get_doc_by_id(doc_id):             #retrieve the document by its id \n",
    "    return elastic_search.get(index='wikiir', id=doc_id)['_source']\n",
    "\n",
    "\n",
    "def make_query(text):  # make a query from the document\n",
    "    return {\n",
    "        'bool': {\n",
    "            'must': {\n",
    "                'match': {\n",
    "                    'text': text\n",
    "                }\n",
    "            }\n",
    "        }\n",
    "    }\n",
    "\n",
    "print(\"Query ID:\", testing['id_left'][0])\n",
    "print(\"Text of Query:\", testing['text_left'][0])\n",
    "search(make_query(testing['text_left'][0]))"
   ]
  },
  {
   "cell_type": "code",
   "execution_count": 51,
   "id": "4391ca01",
   "metadata": {
    "scrolled": false
   },
   "outputs": [
    {
     "name": "stdout",
     "output_type": "stream",
     "text": [
      "Total documents: 10000\n"
     ]
    }
   ],
   "source": [
    "print(f'Total documents: {res[\"total\"][\"value\"]}')"
   ]
  },
  {
   "cell_type": "code",
   "execution_count": 52,
   "id": "76a9104e",
   "metadata": {},
   "outputs": [
    {
     "data": {
      "text/plain": [
       "{'total': {'value': 10000, 'relation': 'gte'},\n",
       " 'max_score': 17.230719,\n",
       " 'hits': [{'_index': 'wikiir',\n",
       "   '_type': '_doc',\n",
       "   '_id': '1880296',\n",
       "   '_score': 17.230719,\n",
       "   '_source': {'text': 'lindsay embrey september 23 1925 november 11 2005 was an american real estate developer and philanthropist he was a primary benefactor of southern methodist university in dallas texas he served as a member of the board of trustees of southern methodist university from 1970 to 1987 in 1978 he established an endowment for students majoring in engineering at the university this endowment has provided scholarships for over 2 000 engineering students in 1991 he was named emeritus of the board of trustees james lindsay embrey jr was born in 1925 in gainesville texas he was the son of james lindsay and margaret n e marsh embrey his great grandfather was james menees lindsay 1835 1919 who migrated to cooke county texas from tennessee in 1857 and became a real estate developer judge and philanthropist he graduated with honors from gainesville high school he received a bachelor of science degree in civil engineering from southern methodist university in 1945 in 1947 after completing his service in the v 12 navy college training program he received a bachelor s degree in business administration from the university he was president of phi delta theta a member of cycen fjodr and lettered as a'}},\n",
       "  {'_index': 'wikiir',\n",
       "   '_type': '_doc',\n",
       "   '_id': '607552',\n",
       "   '_score': 17.198406,\n",
       "   '_source': {'text': 'he served as the third president of southern methodist university from 1923 to 1938 in 1938 he was elected as an american bishop in the methodist episcopal church south charles claude selecman was born on october 13 1874 in savannah missouri in 1882 he attended central college in fayette missouri but never graduated selecman worked as a pastor in pattonsburg missouri in 1898 later he was a missionary in louisiana and missouri in 1913 he was a pastor in los angeles california by 1914 he became the pastor of the newly built trinity auditorium in downtown los angeles selecman moved to dallas texas in 1920 where he became the pastor of the newly built first methodist church south three years later he was appointed as the third president of southern methodist university serving from 1923 to 1938 under his leadership the campus buildings went from two to seven and the endowment from us 883 000 to us 2 300 000 selecman resigned in 1938 and became a bishop in oklahoma city he moved back to dallas in 1944 in 1945 he was elected president of the council of bishops of the methodist church he also served as the president of'}},\n",
       "  {'_index': 'wikiir',\n",
       "   '_type': '_doc',\n",
       "   '_id': '2261272',\n",
       "   '_score': 17.183655,\n",
       "   '_source': {'text': 'he is a multiple lithuanian champion who represented his country at 2009 european junior swimming championships in prague andriunaitis also participated at len european championships in 2010 and 2011 summer universiade and other international competitions over the world andriunaitis was a member of the swimming team for smu mustangs at the southern methodist university in dallas texas andriunaitis was a significant contributor to the mustangs in winning conference usa titles andriunaitis was born in kaunas lithuania on 16 june 1991 the son of edmundas and vida has a sister indre he attended a uolas catholic secondary school in kaunas city after graduating from high school andriunaitis moved to the u s and represented southern methodist university and smu mustangs for four years he received bachelors of business administration degree in finance from southern methodist university in 2014 currently andriunaitis is attending texas a m university commerce where he is pursuing masters of science degree in business analytics he is an active member of dallas aquatic masters swim club and u s masters swimming in 2009 andriunaitis became a lithuanian junior champion in the 100 meters freestyle clocking 0 51 98 sec this result allowed him to qualify for european junior'}},\n",
       "  {'_index': 'wikiir',\n",
       "   '_type': '_doc',\n",
       "   '_id': '1957435',\n",
       "   '_score': 16.908918,\n",
       "   '_source': {'text': 'after serving as head of the department of religious education at southern methodist university in dallas texas he served as the president of scarritt college for christian workers which he moved from kansas city missouri to nashville tennessee jessee lee cuninggim was born in 1870 in north carolina he received a bachelor of arts degree from the university of north carolina at chapel hill and a master s degree from the university of chicago he also studied theology at vanderbilt university in nashville tennessee cuninggim served as head of the department of religious education at southern methodist university in dallas texas he later received an honorary doctor of divinity from smu cuninggim then served as the president of scarritt college for christian workers then known as the scarritt bible and training school a girl s missionary seminary affiliated with the methodist episcopal church south in kansas city missouri in 1923 he moved it to nashville tennessee on the edge of vanderbilt university and peabody college and renamed it scarritt college his goal was to increase its academic focus later he also served as director of the department of ministerial supply and training at vanderbilt university and taught religion in wesley'}},\n",
       "  {'_index': 'wikiir',\n",
       "   '_type': '_doc',\n",
       "   '_id': '625257',\n",
       "   '_score': 16.856976,\n",
       "   '_source': {'text': 'william and martha england hay his grandfather was an influential local preacher the hays moved to texas about 1881 samuel attended centenary college southwestern university and southern college lakeland florida he was licensed to preach in 1886 joining the north texas annual conference of the m e church south in 1887 prior to his election to the episcopacy hay was a pastor and a presiding elder he was elected bishop 16 may 1922 and placed in charge of all american southern methodist episcopal mission work in china returning to the united states in 1924 he resided in several episcopal areas in the south and west of the country and assisted in the development of the methodist church in mexico on june 26 1928 he offered the opening invocation at the 1928 democratic national convention in houston hay died on 4 february 1944 in houston texas leete frederick deland methodist bishops nashville the methodist publishing house 1948'}},\n",
       "  {'_index': 'wikiir',\n",
       "   '_type': '_doc',\n",
       "   '_id': '635537',\n",
       "   '_score': 16.771313,\n",
       "   '_source': {'text': 'it is regionally accredited by the southern association of colleges and schools commission on colleges methodist university offers over 80 majors and concentrations in five undergraduate schools and five graduate programs the school s first doctoral level program the doctor of physical therapy program began enrolling students in fall 2015 a second doctoral level program the doctor of occupational therapy program enrolled its inaugural class in august of 2018 methodist university enrolls a diverse student body from over 41 states and more than 53 countries these students are involved in over 100 clubs and student organizations and 20 ncaa division iii athletic teams monarch teams have won 59 team and individual national championships in just under 50 years of competition as well as capturing 116 conference championships and amassing 286 all americans and 51 academic all americans the university has graduated over 12 000 alumni since its first graduating class in 1964 methodist university is one of the fastest growing institutions in the southeast having almost doubled enrollment since 1990 in 2013 methodist university announced a 35 million capital campaign entitled building excellence the campaign for methodist university which would fund the new thomas r mclean health sciences building several'}},\n",
       "  {'_index': 'wikiir',\n",
       "   '_type': '_doc',\n",
       "   '_id': '1774491',\n",
       "   '_score': 16.640131,\n",
       "   '_source': {'text': 'most of his writings are interpretative of the religion and promotional booklets he attended hendrix college and birmingham southern college which awarded him a b a degree he received an m a from george peabody college for teachers then attended temple university where he earned a b d and th d he was later awarded honorary degrees by florida southern college ll d and southwestern university litt d clark served the methodist episcopal church south mecs and the methodist church for a total of 58 years until his retirement in 1952 he worked for the st louis conference and at denominational headquarters in nashville tennessee and new york city he was a historian of the denomination serving as leader of the association of methodist historical societies for two decades and was a prolific writer of books and tracts from 1939 until 1952 he served as editor of world outlook now new world outlook he was a frequent correspondent of duke university president william preston few the elmer t clark papers were received by the duke university archives as a transfer in 1973 1986 this is only a few of the many titles elmer t clark wrote and published social studies'}},\n",
       "  {'_index': 'wikiir',\n",
       "   '_type': '_doc',\n",
       "   '_id': '663828',\n",
       "   '_score': 16.487574,\n",
       "   '_source': {'text': 'elias married zoraida freytes a native of puerto rico also raised in a united methodist parsonage 12 july 1986 they have one daughter hope born 20 september 1988 galvan attended high school at the instituteo mexicano madero in puebla a methodist boarding school on a scholarship from the spanish american institute a united methodist institution related to the former southern california arizona annual conference he attended compton junior college later earning a b a degree from california state university at long beach he then earned a rel d degree at the school of theology at claremont elias was ordained a deacon and became a probationary member of the southern california arizona conference of the methodist church in 1964 he was received into full connection and ordained an elder in 1970 as a pastor rev galvan served the following appointments in the southern california arizona conference asbury church associate and as pastor of the city terrace church and of the church of all nations in los angeles he then served as director of ethnic planning and strategy 1971 74 he then was appointed superintendent of the santa barbara district 1974 79 also serving two years as dean of the cabinet he'}},\n",
       "  {'_index': 'wikiir',\n",
       "   '_type': '_doc',\n",
       "   '_id': '158491',\n",
       "   '_score': 15.997955,\n",
       "   '_source': {'text': 'smu also operates satellite campuses in plano texas and taos new mexico founded in 1911 by the methodist episcopal church south smu is owned by the south central jurisdiction of what is now the united methodist church there are more catholics enrolled than methodists and the university is non sectarian in its teachings as of the fall 2019 semester the university s 11 824 students are 6 710 undergraduates and 5 114 postgraduates from all 50 states and 85 countries with a gender distribution of 51 percent male students and 49 percent female students the university grants degrees from eight schools the dedman college of humanities and sciences bobby b lyle school of engineering meadows school of the arts annette caldwell simmons school of education and human development perkins school of theology cox school of business dedman school of law and smu guildhall as well as research and graduate studies the university was chartered on april 17 1911 by the southern denomination of the methodist episcopal church at the time of the charter church leaders saw a need to establish a methodist institution within a metropolitan area originally this new institution was intended to be created in fort worth through'}},\n",
       "  {'_index': 'wikiir',\n",
       "   '_type': '_doc',\n",
       "   '_id': '1956922',\n",
       "   '_score': 15.973572,\n",
       "   '_source': {'text': 'he served as the president of the university of alabama from 1871 to 1874 additionally he served as state chemist of alabama nathaniel thomas lupton was born on december 30 1830 near winchester virginia his father was nathaniel lupton and his mother elizabeth hodgson he was raised as a methodist and would remain a devout methodist all his life he was educated at the defunct newark academy in delaware he attended dickinson college in carlisle pennsylvania from 1846 to 1849 where he was a member of the belles lettres society he graduated in 1849 planning to study the law he started his career teaching chemistry at aberdeen female college a methodist women s school in aberdeen mississippi in 1852 he moved to petersburg virginia where he taught chemistry in another methodist school from 1854 to 1856 he served as president of petersburg college even though he was only twenty four years old in 1856 he became a professor of chemistry at randolph macon college in ashland virginia he went traveling in europe and took lessons from renowned german chemist robert bunsen 1811 1899 at the heidelberg university in heidelberg germany back in the us he taught chemistry at southern university'}},\n",
       "  {'_index': 'wikiir',\n",
       "   '_type': '_doc',\n",
       "   '_id': '1180246',\n",
       "   '_score': 15.590252,\n",
       "   '_source': {'text': 'his most recent book is black stone monkey sea editions 2009 his poems have been published in literary journals and magazines including 5 a m black warrior review mid american review pittsburgh quarterly southwest review and west branch his poems have also been read by garrison keillor on the nationally syndicated radio show the writer s almanac born in 1954 in houston texas simms attended the school of irish studies in dublin ireland southern methodist university ba 1976 and the university of iowa mfa 1978 in addition to his literary career simms has written and published on health nutrition and the environment having earned a certificate in plant based nutrition from cornell university 2015 from 1979 1987 he served on the faculty of southern methodist university and from 2005 2013 in chatham university master of fine arts program in creative writing in 1998 simms founded the literary publisher autumn house press in pittsburgh pennsylvania where he served as editor in chief until 2016 he has been the lead editor on over 100 full length books of poetry fiction and nonfiction by authors such as gerald stern ed ochester martha rhodes jo mcdougall chana bloch samuel ligon samuel hazo sue ellen'}},\n",
       "  {'_index': 'wikiir',\n",
       "   '_type': '_doc',\n",
       "   '_id': '1170039',\n",
       "   '_score': 15.534702,\n",
       "   '_source': {'text': 'he played the 1952 nfl season for the new york giants benners also played at southern methodist university and is considered one of the greatest mustang players of all time a native of dallas texas benners attended highland park high school in the dallas suburb of university park in 1947 he took the scots to the texas state final which his team lost 22 13 to brackenridge high school of san antonio benners then attended and later southern methodist in dallas where he was part in one of the greatest upsets in college football history on october 13 1951 smu beat university of notre dame 27 20 in a rare nationally televised game powered by benners historic performance as he hit on 22 passes in 44 attempts for 326 yards and four touchdowns no one could have been more adroit in picking the spot for a super duper performance wrote the new york times already picked in the 1951 nfl draft by the new york giants at 97th overall benners played his rookie season in 1952 he then however left the nfl pursuing a career as lawyer in dallas'}},\n",
       "  {'_index': 'wikiir',\n",
       "   '_type': '_doc',\n",
       "   '_id': '945068',\n",
       "   '_score': 15.526761,\n",
       "   '_source': {'text': 'prior to his election to the episcopacy rev martinez gained notability as a pastor and district superintendent in the methodist and united methodist churches and as a denominational official in the area of ethnic ministries martinez was born 3 february 1940 in seguin texas he was the eldest of four children born to guadalupe and dora martinez martinez is a grandson of sharecropper farmers who came to the united states at the turn of the nineteenth century martinez was baptized at the iglesia metodista unida la trinidad where his parents are still active members martinez met raquel mora while in college in el paso texas they were married 9 june 1961 she was born in allende coahuila mexico where her father was a methodist pastor the mora family came to the united states when raquel was twelve years old joel and raquel have three children patricia john and rebeca martinez earned the b a degree in history from the university of texas at el paso in 1961 his wife attended the lydia patterson institute in el paso at the same time martinez went on to graduate from the perkins school of theology at southern methodist university dallas texas in 1965'}},\n",
       "  {'_index': 'wikiir',\n",
       "   '_type': '_doc',\n",
       "   '_id': '360918',\n",
       "   '_score': 15.501228,\n",
       "   '_source': {'text': 'it has a relationship with claremont graduate university which allows the two schools to share faculty members library resources cultural events and joint academic research endeavors founded as the maclay school of theology in san fernando california in 1885 the methodist seminary was founded by charles maclay founder of the town of san fernando former methodist minister and state senator the school became affiliated with the university of southern california from 1900 to 1957 staying on the usc campus until it moved to its present location in claremont the school is one of thirteen seminaries affiliated with the united methodist church though usually more than forty different denominations are represented in the student body in any given school term in a 2008 meeting the board of trustees set in motion the claremont university project by approving the following mission statement as an ecumenical and inter religious institution claremont school of theology seeks to instill students with the ethical integrity religious intelligence and intercultural understanding necessary to become effective in thought and action as leaders in the increasingly diverse multireligious world of the 21st century on may 16 2011 the university project was officially named claremont lincoln university in doing so'}},\n",
       "  {'_index': 'wikiir',\n",
       "   '_type': '_doc',\n",
       "   '_id': '589549',\n",
       "   '_score': 15.501228,\n",
       "   '_source': {'text': 'a 1925 graduate of lawrence university in appleton wisconsin he earned the master of arts from the university of illinois in 1926 and the ph d from illinois in 1928 he was a faculty member at american university and from 1930 to 1958 a professor of economics at the college of william and mary in his last six years at william and mary he was dean of the faculty he was involved in civic affairs in williamsburg serving on several economic planning agencies an active churchman he was a member of several annual conference boards in the virginia and south carolina conferences and a member of the methodist general conference dr marsh also served as a member of the methodist commission on church union and as a member of the university senate of the methodist church active in the affairs of the southern association of colleges and schools he was a member of the sacs executive council at the time of the integration crisis at the university of mississippi dr marsh retired from the presidency of wofford in 1968 returning to williamsburg to teach in the graduate school at william and mary a dormitory at wofford is named in his'}},\n",
       "  {'_index': 'wikiir',\n",
       "   '_type': '_doc',\n",
       "   '_id': '685181',\n",
       "   '_score': 15.335788,\n",
       "   '_source': {'text': 'he was born in nashville tennessee and raised in illinois indiana and colorado he met his wife mary lou reece while a student at the university of kansas and they were married 18 august 1979 she is the president of reece construction company with offices in salina kansas and prosper texas the couple has three children and five grandchildren jones younger brother l gregory jones is the williams professor of theology and christian ministry at duke divinity school senior fellow of the fuqua coach k center on leadership and ethics and senior fellow of leadership education at duke divinity jones earned a b a degree in philosophy at the university of kansas 1977 with highest honors he is a member of phi beta kappa he earned an m th degree at perkins school of theology southern methodist university 1981 with high honors jones s ph d is also from southern methodist university which he earned in 1992 in religious studies jones was endorsed for election to the episcopacy by the north texas conference delegation to the south central jurisdictional conference and was elected in july 2004 he was assigned to the kansas episcopal area with offices in wichita kansas in'}},\n",
       "  {'_index': 'wikiir',\n",
       "   '_type': '_doc',\n",
       "   '_id': '2411344',\n",
       "   '_score': 15.325968,\n",
       "   '_source': {'text': 'her father was an attorney her mother was a medical doctor who died soon after childbirth in 1904 the younger artishia earned degrees at howard university 1922 and the university of chicago 1923 and a master s degree in mathematics in 1924 from the university of california jordan was a math teacher in louisville as a young woman she was president of the los angeles chapter of the national council of negro women and was active in alpha kappa alpha the naacp the order of the eastern star and the ywca she was on the editorial board of the afro american women s journal as a bishop s wife in the african methodist episcopal church ame she held denominational and interdenominational positions of leadership including a term as president of the southern california conference branch she organized the ame ministers wives alliance for los angeles spouses the interdenominational ministers wives council of los angeles and served on the board of the southern california council of church women she was director of the los angeles chapter of american mission to lepers jordan edited the women s missionary recorder during world war ii she was active in the world federation of methodist'}},\n",
       "  {'_index': 'wikiir',\n",
       "   '_type': '_doc',\n",
       "   '_id': '1158969',\n",
       "   '_score': 15.273922,\n",
       "   '_source': {'text': 'louis cardinals green bay packers and dallas cowboys he played college football at southern methodist university born and raised in dallas texas roach graduated from highland park high school in university park which had earlier produced hall of famers bobby layne and doak walker roach accepted a football scholarship from southern methodist university he played as a quarterback defensive back and punter he was a starter at quarterback as a senior roach was selected by the chicago cardinals in the third round 31st overall in the 1956 nfl draft as a rookie he was used at punter after the season he spent two years in the u s air force in 1959 he returned to the team and played as a defensive back before being named the starting quarterback late in the year in 1960 he became the starting quarterback after the team lost to injury two quarterbacks during their first season in st louis on july 5 1961 in a surprising move he was sent to the cleveland browns in exchange for halfback prentice gautt and rookie end taz anderson on august 8 1961 he was traded to the green bay packers in exchange for a third round draft'}},\n",
       "  {'_index': 'wikiir',\n",
       "   '_type': '_doc',\n",
       "   '_id': '1093529',\n",
       "   '_score': 15.163386,\n",
       "   '_source': {'text': 'he played college football at southern methodist university dickerson s family moved to pearland in 1957 but it was not until after integration that he attended pearland schools before the third grade he attended ralph a bunch in manvel texas at pearland tx he was a three year starter at running back and also played linebacker he received all american honors as a senior he began his college career at henderson county junior college where he was a junior college all american and an all conference linebacker in 1976 in 1977 dickerson transferred to southern methodist university where he was named co captain and a starter at linebacker finishing with 136 tackles 62 solo one safety one caused fumble and one blocked kick he also had a game against ohio state university where he recorded 32 tackles in 1978 he was let go by head coach ron meyer meyer was quoted as saying i haven t been around that long but dickerson was the greatest linebacker i have ever coached on october 1 2011 he was inducted into the trinity valley community college cardinal hall of fame in 1978 he signed with the toronto argonauts of the canadian football league'}},\n",
       "  {'_index': 'wikiir',\n",
       "   '_type': '_doc',\n",
       "   '_id': '742912',\n",
       "   '_score': 15.109789,\n",
       "   '_source': {'text': 'is pastor emeritus of st luke community united methodist church in dallas texas where he served as senior pastor for 28 years rev dr zan wesley holmes jr graduated cum laude from huston tillotson university in austin texas and holds two graduate degrees from perkins school of theology at southern methodist university where he also served as adjunct professor of preaching for 24 years known as much for his community activism as his preaching and teaching holmes was elected to the texas house of representatives from 1968 1972 while he also served as a united methodist district superintendent in 2001 he was recognized as one of the civil rights movement s invisible giants in the national voting rights museum and institute in selma alabama dr holmes is widely known for his role as narrator and host of the disciple bible study video series produced by abingdon press disciple 1 he also served on the board of regents of the university of texas from 1991 to 1997 in 2012 the dallas independent school district named the groundbreaking state of the art zan wesley holmes jr middle school in his honor pastor holmes is a member of alpha phi alpha fraternity and'}}]}"
      ]
     },
     "execution_count": 52,
     "metadata": {},
     "output_type": "execute_result"
    }
   ],
   "source": [
    "res"
   ]
  },
  {
   "cell_type": "markdown",
   "id": "5ec6ff94",
   "metadata": {},
   "source": [
    "## Evaluation of BM25 scoring document"
   ]
  },
  {
   "cell_type": "code",
   "execution_count": 53,
   "id": "5e351424",
   "metadata": {},
   "outputs": [
    {
     "name": "stderr",
     "output_type": "stream",
     "text": [
      "C:\\Users\\kuany\\AppData\\Local\\Temp\\ipykernel_9276\\3954238522.py:4: ElasticsearchWarning: Elasticsearch built-in security features are not enabled. Without authentication, your cluster could be accessible to anyone. See https://www.elastic.co/guide/en/elasticsearch/reference/7.15/security-minimal-setup.html to enable security.\n",
      "  search_res = es.search(index='wikiir', query=make_query(row['text_left']), size=20)['hits']\n"
     ]
    }
   ],
   "source": [
    "query_doc = {}\n",
    "\n",
    "for i, row in test_queries.iterrows():\n",
    "    search_res = elastic_search.search(index='wikiir', query=make_query(row['text_left']), size=20)['hits']\n",
    "    query_doc[str(row['id_left'])] = {}\n",
    "                 \n",
    "    for hit in search_res['hits']:\n",
    "        query_doc[str(row['id_left'])][hit['_id']] = hit['_score']\n",
    "                 "
   ]
  },
  {
   "cell_type": "code",
   "execution_count": 54,
   "id": "77bed468",
   "metadata": {},
   "outputs": [
    {
     "data": {
      "text/plain": [
       "{P@20: 0.14700000000000005,\n",
       " P@10: 0.20599999999999988,\n",
       " AP@20: 0.14572550811737783}"
      ]
     },
     "execution_count": 54,
     "metadata": {},
     "output_type": "execute_result"
    }
   ],
   "source": [
    "qrels = ir_measures.read_trec_qrels('wikIR1k/test/qrels')\n",
    "\n",
    "ir_measures.calc_aggregate([P@10, P@20, MAP@20], qrels, query_doc)"
   ]
  },
  {
   "cell_type": "code",
   "execution_count": 55,
   "id": "b632169a",
   "metadata": {},
   "outputs": [
    {
     "data": {
      "text/plain": [
       "100"
      ]
     },
     "execution_count": 55,
     "metadata": {},
     "output_type": "execute_result"
    }
   ],
   "source": [
    "len(query_doc)"
   ]
  },
  {
   "cell_type": "markdown",
   "id": "f47ce416",
   "metadata": {},
   "source": [
    "## Initiating MSMARCO Model and creating Cosine similarity scoring document"
   ]
  },
  {
   "cell_type": "code",
   "execution_count": 105,
   "id": "8e9cd62b",
   "metadata": {
    "scrolled": true
   },
   "outputs": [],
   "source": [
    "def get_cosine_similarity_testing_document_from_model(model, query_doc):\n",
    "    '''\n",
    "    Args:\n",
    "        model: SentenceTransformer model('msmarco-distilbert-cos-v5')\n",
    "        query_doc: queryid-document-score nested dict\n",
    "    Returns:\n",
    "        query_doc_cosine: queryid-document-cosine_similarity_score nested dict\n",
    "    '''\n",
    "\n",
    "    q_ids = list(query_doc.keys())  # q_ids -- list of strings\n",
    "    query_doc_cosine = {}\n",
    "\n",
    "    for q_id in tqdm(q_ids, total=len(q_ids), bar_format='{l_bar}{bar:30}{r_bar}{bar:-10b}'):\n",
    "        \n",
    "        # encoding the query\n",
    "        query_text = testing[testing['id_left']==int(q_id)].iloc[0]['text_left']\n",
    "        query_embedding = model.encode(query_text)\n",
    "        query_doc_cosine[q_id] = {}\n",
    "\n",
    "        # documents encoding\n",
    "        docs_texts = []\n",
    "        for doc_id in query_doc[str(q_id)]:\n",
    "            docs_texts.append(df[df['id_right']==int(doc_id)].iloc[0]['text_right'])\n",
    "        docs_embedding = model.encode(docs_texts)\n",
    "\n",
    "        # computing cosine similarity\n",
    "        if len(docs_embedding) == 0:\n",
    "            continue\n",
    "        cos_sim_score = util.cos_sim(query_embedding, docs_embedding)[0]\n",
    "        for i, doc_id in enumerate(query_doc[str(q_id)]):\n",
    "            query_doc_cosine[q_id][doc_id] = cos_sim_score[i].item()\n",
    "            \n",
    "    return query_doc_cosine"
   ]
  },
  {
   "cell_type": "markdown",
   "id": "796063c5",
   "metadata": {},
   "source": [
    "## Evaluation of Cosine Similarity scoring document"
   ]
  },
  {
   "cell_type": "code",
   "execution_count": 57,
   "id": "a849b9e2",
   "metadata": {},
   "outputs": [
    {
     "name": "stderr",
     "output_type": "stream",
     "text": [
      "100%|██████████████████████████████| 100/100 [04:46<00:00,  2.87s/it]                                                  \n"
     ]
    }
   ],
   "source": [
    "model = SentenceTransformer('msmarco-distilbert-cos-v5')\n",
    "\n",
    "query_doc_cosine = get_cosine_similarity_testing_document_from_model(model, query_doc)"
   ]
  },
  {
   "cell_type": "code",
   "execution_count": 58,
   "id": "aa902661",
   "metadata": {},
   "outputs": [
    {
     "data": {
      "text/plain": [
       "{P@20: 0.14800000000000005,\n",
       " P@10: 0.2339999999999999,\n",
       " AP@20: 0.17022283800557722}"
      ]
     },
     "execution_count": 58,
     "metadata": {},
     "output_type": "execute_result"
    }
   ],
   "source": [
    "qrels = ir_measures.read_trec_qrels('wikIR1k/test/qrels')\n",
    "\n",
    "ir_measures.calc_aggregate([P@10, P@20, MAP@20], qrels, query_doc_cosine)"
   ]
  },
  {
   "cell_type": "markdown",
   "id": "8bd0f846",
   "metadata": {},
   "source": [
    "## Printing the scores of the first testing query id"
   ]
  },
  {
   "cell_type": "code",
   "execution_count": 59,
   "id": "a04f74a4",
   "metadata": {},
   "outputs": [
    {
     "name": "stdout",
     "output_type": "stream",
     "text": [
      "Query ID:  158491\n",
      "Doc 1880296 , score 0.267\n",
      "Doc 607552 , score 0.382\n",
      "Doc 2261272 , score 0.188\n",
      "Doc 1957435 , score 0.368\n",
      "Doc 625257 , score 0.247\n",
      "Doc 635537 , score 0.506\n",
      "Doc 1774491 , score 0.327\n",
      "Doc 663828 , score 0.199\n",
      "Doc 158491 , score 0.44\n",
      "Doc 1956922 , score 0.164\n",
      "Doc 1180246 , score 0.159\n",
      "Doc 1170039 , score 0.264\n",
      "Doc 945068 , score 0.163\n",
      "Doc 589549 , score 0.22\n",
      "Doc 360918 , score 0.384\n",
      "Doc 685181 , score 0.22\n",
      "Doc 2411344 , score 0.098\n",
      "Doc 1158969 , score 0.275\n",
      "Doc 1093529 , score 0.277\n",
      "Doc 742912 , score 0.373\n"
     ]
    }
   ],
   "source": [
    "print(\"Query ID: \", list(query_doc_cosine.keys())[0])\n",
    "for i in range (20):\n",
    "    print(\"Doc\",list(query_doc_cosine['158491'].keys())[i],\", score\",round(query_doc_cosine['158491'][list(query_doc_cosine['158491'].keys())[i]],3))"
   ]
  },
  {
   "cell_type": "markdown",
   "id": "5a0b7e65",
   "metadata": {},
   "source": [
    "# Bonus Part"
   ]
  },
  {
   "cell_type": "markdown",
   "id": "7c4cb8af",
   "metadata": {},
   "source": [
    "## Reading the train subset"
   ]
  },
  {
   "cell_type": "code",
   "execution_count": 62,
   "id": "4912dad0",
   "metadata": {},
   "outputs": [
    {
     "data": {
      "text/html": [
       "<div>\n",
       "<style scoped>\n",
       "    .dataframe tbody tr th:only-of-type {\n",
       "        vertical-align: middle;\n",
       "    }\n",
       "\n",
       "    .dataframe tbody tr th {\n",
       "        vertical-align: top;\n",
       "    }\n",
       "\n",
       "    .dataframe thead th {\n",
       "        text-align: right;\n",
       "    }\n",
       "</style>\n",
       "<table border=\"1\" class=\"dataframe\">\n",
       "  <thead>\n",
       "    <tr style=\"text-align: right;\">\n",
       "      <th></th>\n",
       "      <th>id_left</th>\n",
       "      <th>text_left</th>\n",
       "    </tr>\n",
       "  </thead>\n",
       "  <tbody>\n",
       "    <tr>\n",
       "      <th>0</th>\n",
       "      <td>123839</td>\n",
       "      <td>yanni</td>\n",
       "    </tr>\n",
       "    <tr>\n",
       "      <th>1</th>\n",
       "      <td>188629</td>\n",
       "      <td>k pop</td>\n",
       "    </tr>\n",
       "    <tr>\n",
       "      <th>2</th>\n",
       "      <td>13898</td>\n",
       "      <td>venice film festival</td>\n",
       "    </tr>\n",
       "    <tr>\n",
       "      <th>3</th>\n",
       "      <td>316959</td>\n",
       "      <td>downtown brooklyn</td>\n",
       "    </tr>\n",
       "    <tr>\n",
       "      <th>4</th>\n",
       "      <td>515031</td>\n",
       "      <td>pennsylvania house of representatives</td>\n",
       "    </tr>\n",
       "    <tr>\n",
       "      <th>...</th>\n",
       "      <td>...</td>\n",
       "      <td>...</td>\n",
       "    </tr>\n",
       "    <tr>\n",
       "      <th>1439</th>\n",
       "      <td>896124</td>\n",
       "      <td>british ceylon</td>\n",
       "    </tr>\n",
       "    <tr>\n",
       "      <th>1440</th>\n",
       "      <td>12319</td>\n",
       "      <td>scottish national party</td>\n",
       "    </tr>\n",
       "    <tr>\n",
       "      <th>1441</th>\n",
       "      <td>4421</td>\n",
       "      <td>cinema of china</td>\n",
       "    </tr>\n",
       "    <tr>\n",
       "      <th>1442</th>\n",
       "      <td>296526</td>\n",
       "      <td>gold mining</td>\n",
       "    </tr>\n",
       "    <tr>\n",
       "      <th>1443</th>\n",
       "      <td>341793</td>\n",
       "      <td>gloucestershire county cricket club</td>\n",
       "    </tr>\n",
       "  </tbody>\n",
       "</table>\n",
       "<p>1444 rows × 2 columns</p>\n",
       "</div>"
      ],
      "text/plain": [
       "      id_left                              text_left\n",
       "0      123839                                  yanni\n",
       "1      188629                                  k pop\n",
       "2       13898                   venice film festival\n",
       "3      316959                      downtown brooklyn\n",
       "4      515031  pennsylvania house of representatives\n",
       "...       ...                                    ...\n",
       "1439   896124                         british ceylon\n",
       "1440    12319                scottish national party\n",
       "1441     4421                        cinema of china\n",
       "1442   296526                            gold mining\n",
       "1443   341793    gloucestershire county cricket club\n",
       "\n",
       "[1444 rows x 2 columns]"
      ]
     },
     "execution_count": 62,
     "metadata": {},
     "output_type": "execute_result"
    }
   ],
   "source": [
    "training = pd.read_csv('wikIR1k/train/queries.csv')\n",
    "training"
   ]
  },
  {
   "cell_type": "code",
   "execution_count": 63,
   "id": "26ac83c1",
   "metadata": {},
   "outputs": [
    {
     "name": "stdout",
     "output_type": "stream",
     "text": [
      "Doc 123839, score is 18.237452\n",
      "Doc 806300, score is 17.769026\n",
      "Doc 806326, score is 17.390072\n",
      "Doc 836567, score is 16.393133\n",
      "Doc 1793430, score is 15.605509\n",
      "Doc 806075, score is 15.605509\n",
      "Doc 806263, score is 14.116629\n",
      "Doc 799188, score is 10.251266\n",
      "Doc 1901730, score is 9.908206\n",
      "Doc 817579, score is 9.660697\n",
      "Doc 1727316, score is 9.660697\n"
     ]
    },
    {
     "name": "stderr",
     "output_type": "stream",
     "text": [
      "C:\\Users\\kuany\\AppData\\Local\\Temp\\ipykernel_9276\\3993421522.py:13: ElasticsearchWarning: Elasticsearch built-in security features are not enabled. Without authentication, your cluster could be accessible to anyone. See https://www.elastic.co/guide/en/elasticsearch/reference/7.15/security-minimal-setup.html to enable security.\n",
      "  return pretty_print_result(es.search(index='wikiir', query=query, size=20), args)\n"
     ]
    }
   ],
   "source": [
    "search(make_query(training['text_left'][0]))"
   ]
  },
  {
   "cell_type": "code",
   "execution_count": 64,
   "id": "90edb0a6",
   "metadata": {},
   "outputs": [
    {
     "name": "stdout",
     "output_type": "stream",
     "text": [
      "Total documents: 11\n"
     ]
    }
   ],
   "source": [
    "print(f'Total documents: {res[\"total\"][\"value\"]}')"
   ]
  },
  {
   "cell_type": "code",
   "execution_count": 65,
   "id": "a8d46d64",
   "metadata": {},
   "outputs": [
    {
     "data": {
      "text/plain": [
       "{'total': {'value': 11, 'relation': 'eq'},\n",
       " 'max_score': 18.237452,\n",
       " 'hits': [{'_index': 'wikiir',\n",
       "   '_type': '_doc',\n",
       "   '_id': '123839',\n",
       "   '_score': 18.237452,\n",
       "   '_source': {'text': 'although this genre of music was not well suited for commercial pop radio and music television yanni received international recognition by producing concerts at historic monuments and by producing videos that were broadcast on public television his breakthrough concert live at the acropolis yielded the second best selling music concert video of all time additional historic sites for yanni s concerts have included india s taj mahal china s forbidden city the united arab emirates burj khalifa russia s kremlin puerto rico s el morro castle lebanon s ancient city of byblos tunisia s roman theatre of carthage india s laxmi vilas palace the egyptian pyramids and great sphinx of giza and the amman citadel at least sixteen of yanni s albums have peaked at no 1 in billboard s top new age album category and two albums dare to dream and in my time received grammy award nominations yanni has performed in more than 30 countries on five continents and through late 2015 yanni had performed live in concert before more than 5 million people and had accumulated more than 40 platinum and gold albums globally with sales totaling over 25 million copies a longtime fundraiser for public television'}},\n",
       "  {'_index': 'wikiir',\n",
       "   '_type': '_doc',\n",
       "   '_id': '806300',\n",
       "   '_score': 17.769026,\n",
       "   '_source': {'text': 'it is a compilation of tracks from his five previous studio albums released between 1980 and 1989 plus three new compositions yanni was encouraged to release the album by his then partner actress linda evans reflections of passion became yanni s fastest selling and most successful album of his career upon release it reached no 1 on the billboard top new age albums chart and no 29 on the billboard 200 yanni supported the album with a nationwide concert tour in 1990 that featured his band and an orchestra in 1995 it was certified double platinum for selling 2 million copies in the us in august 1989 yanni released his fifth studio album niki nana the album marked his stylistic development from solo keyboard music towards rock with the addition of additional vocalists musicians and choir around the same time of its release yanni s newfound relationship with american actress linda evans who had become a fan of his music received press attention not long into their relationship evans pitched an idea she had for an album from yanni which was long in duration reflected a single mood throughout and something that she could play at dinner parties she mentioned'}},\n",
       "  {'_index': 'wikiir',\n",
       "   '_type': '_doc',\n",
       "   '_id': '806326',\n",
       "   '_score': 17.390072,\n",
       "   '_source': {'text': 'the album peaked at no 1 on billboard s top new age album chart and at no 21 on the billboard 200 chart in the same year the corresponding concert tour in 1998 was the tribute world tour 1998 tribute pays musical homage to india on several songs greek born composer and keyboardist yanni describes the album as a tribute to the builders of the taj and the forbidden city as well as to the people of india and china yanni s ethereal keyboard work is backed by orchestra vocalists a choir and various world instruments including didgeridoo duduk charango and bamboo saxophone yanni hired armen anassian as conductor on faith as he had never watched him conduct an orchestra that s how yanni does many things anassian said in a 1998 interview with the toledo blade anassian concedes that he had some doubts about the artist s plans to perform at india s taj mahal and china s forbidden city for tribute to be honest a few years ago when he was talking about it the idea was so amazing i myself was very skeptical understandably so but the truth is it happened we did it anassian said the'}},\n",
       "  {'_index': 'wikiir',\n",
       "   '_type': '_doc',\n",
       "   '_id': '836567',\n",
       "   '_score': 16.393133,\n",
       "   '_source': {'text': 'adams was born in joliet illinois band members of regional rock band chameleon included adams on drums vocals and percussion yanni on keyboards and synthesizers dugan mcneill on lead vocals and bass guitars johnny donaldson on all guitars and mark anthony on lead vocals and keyboards their albums included chameleon techno color hologram sky and balance the group was noted for adams revolving gyroscope drum kit who played his rapidly spinning drums before m tley cr e s tommy lee s similar arrangement in 1987 yanni was putting together his first touring band to promote his album out of silence as well as selections from keys to imagination this early band included yanni john tesh and joyce imbesi on keyboards and adams on drums adams is widely recognized for his drum solo on the live at the acropolis concert film he is also featured in the live at royal albert hall released in 1995 when yanni staged his tribute concerts in 1996 1997 adams did not join him as he had to stay back in the united states to deal with issues on his son s autism and help raise him joel taylor became the substitute drummer for the said'}},\n",
       "  {'_index': 'wikiir',\n",
       "   '_type': '_doc',\n",
       "   '_id': '1793430',\n",
       "   '_score': 15.605509,\n",
       "   '_source': {'text': 'the two concerts were performed outdoors on the grounds of el morro castle in san juan puerto rico in december 2011 the cd peaked at 1 on billboard s new age album list in both 2012 and 2013 live at el morro puerto rico was recorded and filmed during two sold out concerts performed outdoors on december 16 and 17 2011 on the grounds of the castillo san felipe del morro el morro a unesco world heritage site in the old san juan yanni had reportedly planned for twenty years to perform at the historic site yanni explained that two concerts were planned for friday and saturday night with the ensuing sunday being a contingent rain day it reportedly rained for 25 days in a row preceding the first night s concert on friday and the first concert itself was interrupted and eventually cut short three quarters of the way through by rain and wind causing danger for the outdoor performance the evening of the second show saturday the weather was better and the show was completed as planned yanni said that 35 cameras and three live camera operators were able to capture the show departing the island on sunday'}},\n",
       "  {'_index': 'wikiir',\n",
       "   '_type': '_doc',\n",
       "   '_id': '806075',\n",
       "   '_score': 15.605509,\n",
       "   '_source': {'text': 'it was recorded at the herodes atticus theatre in athens greece during his 1993 tour in support of his eighth studio album in my time 1993 the concert took a year and a half to organise and cost yanni 2 million of his own money to fund he performs with his six piece band and the royal philharmonic orchestra conducted by shahrdad rohani the album was mixed and produced by yanni in his studio and was made into a television special which aired in the united states on public broadcasting service pbs live at the acropolis received a mostly positive reception from music critics it was an instant commercial success reaching number one on the billboard new age albums chart and number 5 on the billboard 200 it remains yanni s highest selling release with 4 million albums and 600 000 home videos sold in the united states and an estimated 7 million copies sold worldwide in 1994 the video received a primetime emmy award nomination for outstanding individual achievement in lighting direction electronic for a drama series variety series miniseries or a special a remastered edition with bonus material to commemorate the album s 25th anniversary was released in'}},\n",
       "  {'_index': 'wikiir',\n",
       "   '_type': '_doc',\n",
       "   '_id': '806263',\n",
       "   '_score': 14.116629,\n",
       "   '_source': {'text': 'its corresponding concert tour was the 1987 concert series the liner notes dedicate the album to his homeland in kalamata greece respectively dedicated to the town of kalamata greece which stood strong and waited for me one last time the album was reissued in 2009 by valley entertainment in a review by william ruhlmann of allmusic yanni s second album like his first keys to imagination was recorded entirety on synthesizers at his home studio the composer performer makes extensive use of the orchestral possibilities of electronics creating big themes to play across elaborate echoing rhythm tracks unlike much adult alternative music it s constantly stimulating foreground music with an extremely modern sound 1987 selections from keys to imagination and out of silence it was during this year that yanni was putting together his first touring band to promote his album out of silence as well as selections from keys to imagination although i d written as always with an orchestra in mind i couldn t afford one so i reproduced that sound in my studio with my synthesizers but because i wanted to play everything live onstage and not against tape i needed three keyboard players and a drummer'}},\n",
       "  {'_index': 'wikiir',\n",
       "   '_type': '_doc',\n",
       "   '_id': '799188',\n",
       "   '_score': 10.251266,\n",
       "   '_source': {'text': 'singles from the album included rabba released in 2003 and sajan released in 2004 the tunes on sampooran were written incorporating traditional material from the eastern classical tradition and adapting these with music which was based on the jazz rock fusion explosion of the seventies it possesses arguably the finest musical arrangements that have ever been experienced in the country and the compositions really light up the album the album starts with the lukewarm sajan whose lyrics have been taken from a kaafi written by shah hussain a moderate mix of acoustic guitars and percussion and some sweet flute playing renders this a really good opening track waris shah is next with its yanni isque musical intonations and lyrics inspired from texts by amrita preetam the album seems to be getting into a groove as the vocals start getting tuned up and the music gets more and more passionate a classically inspired flute arrangement mixed with soft bass drums and javed bashir does total justice with the lyrics the song has probably lingered on a bit and some pieces seem a bit lengthy but overall it is the vocals that stand out on waris shah more than anything else rabba'}},\n",
       "  {'_index': 'wikiir',\n",
       "   '_type': '_doc',\n",
       "   '_id': '1901730',\n",
       "   '_score': 9.908206,\n",
       "   '_source': {'text': 'at age 16 lavie toured canada as a backup singer with the french canadian hip hop group dubmatique after which she recorded her own demo cd lavie s demo cd reached the same producer who had co written mariah carey s first album and lavie accepted his invitation to move to california to work with him in 2006 lavie s vocals were included on the soundtracks of the motion pictures stick it and the guardian in 2007 lavie became one of the earliest to use the internet to reach fans and arouse interest of record labels by october her music video angel was featured on youtube s front page and became a finalist in the 2007 youtube awards music category lavie was listed as singer songwriter in her first album everything or nothing which was released under an independent record label in february 2010 lavie produced and performed in the charity collaboration video we are the world 25 for haiti youtube edition for relief of victims of the 2010 haiti earthquake journalist diane sawyer named the video s contributors abc news persons of the week since 2010 lavie has been a vocalist of contemporary instrumentalist yanni on his tours contributing'}},\n",
       "  {'_index': 'wikiir',\n",
       "   '_type': '_doc',\n",
       "   '_id': '817579',\n",
       "   '_score': 9.660697,\n",
       "   '_source': {'text': 'koldenhoven won a grammy award for her singing grammy recipient and is a three time grammy nominee for the lead soprano in clare fischer s 2 2 she was the featured soprano soloist in the pbs television special yanni live at the acropolis and in grammy winner ricky kej s shanti samsara concerts videos in bangalore india for consciousness awareness koldenhoven has an mvp award from the los angeles chapter of the national academy of recording arts and sciences the grammys for best studio singer for singing in venues including movies television albums cds commercials video games live shows she has a platinum album for her vocal work on pink floyd s a momentary lapse of reason she earned a gold album as the tambourine waving choir nun in both sister act films with whoopi goldberg and off camera as the production vocal coach vocal contractor and music director she has two telley awards for her song video love is an action word her albums have debuted or gone to 1 on the zmr radio charts and have been voted by broadcasters worldwide best vocal album 2007 infinite voice best holiday album 2007 heavenly peace a nomination for best vocal'}},\n",
       "  {'_index': 'wikiir',\n",
       "   '_type': '_doc',\n",
       "   '_id': '1727316',\n",
       "   '_score': 9.660697,\n",
       "   '_source': {'text': 'contrary to some sources this film was never released under the title vampire playgirls count dracula s great love opens outside a creepy old sanitorium in the carpathian mountains as two delivery men arrive with a large heavy man shaped crate the owner doctor wendell marlow paul naschy has just purchased the sanitorium but has not yet moved in realizing that these rich castle owning types have money and jewels just lying around they decide to wander about and see if there is anything they can steal one is struck in the head with an axe and the other gets his throat ripped out by a man in a black cape with velvet lining the opening scene is repeated over and over again as the opening credits roll meanwhile a stagecoach loaded with four young women karen haydee politoff senta rosanna yanni marlene ingrid garbo and elke mirta miller and imre polvi vic winner a strapping young male who is really nothing more than an extended cameo loses a carriage wheel in the infamous borgo pass when the stagecoach driver is killed in a freak accident the five passengers seek shelter from an oncoming storm in the nearby sanitorium where'}}]}"
      ]
     },
     "execution_count": 65,
     "metadata": {},
     "output_type": "execute_result"
    }
   ],
   "source": [
    "res"
   ]
  },
  {
   "cell_type": "markdown",
   "id": "d53f4fc1",
   "metadata": {},
   "source": [
    "## Re-ranking"
   ]
  },
  {
   "cell_type": "markdown",
   "id": "bd3e759f",
   "metadata": {},
   "source": [
    "### Sampling by 100 train queries"
   ]
  },
  {
   "cell_type": "code",
   "execution_count": 121,
   "id": "968aaec2",
   "metadata": {},
   "outputs": [
    {
     "data": {
      "text/html": [
       "<div>\n",
       "<style scoped>\n",
       "    .dataframe tbody tr th:only-of-type {\n",
       "        vertical-align: middle;\n",
       "    }\n",
       "\n",
       "    .dataframe tbody tr th {\n",
       "        vertical-align: top;\n",
       "    }\n",
       "\n",
       "    .dataframe thead th {\n",
       "        text-align: right;\n",
       "    }\n",
       "</style>\n",
       "<table border=\"1\" class=\"dataframe\">\n",
       "  <thead>\n",
       "    <tr style=\"text-align: right;\">\n",
       "      <th></th>\n",
       "      <th>id_left</th>\n",
       "      <th>text_left</th>\n",
       "    </tr>\n",
       "  </thead>\n",
       "  <tbody>\n",
       "    <tr>\n",
       "      <th>218</th>\n",
       "      <td>73285</td>\n",
       "      <td>smokey robinson</td>\n",
       "    </tr>\n",
       "    <tr>\n",
       "      <th>1341</th>\n",
       "      <td>1271109</td>\n",
       "      <td>gossip girl</td>\n",
       "    </tr>\n",
       "    <tr>\n",
       "      <th>1047</th>\n",
       "      <td>13944</td>\n",
       "      <td>vermont</td>\n",
       "    </tr>\n",
       "    <tr>\n",
       "      <th>1201</th>\n",
       "      <td>13000</td>\n",
       "      <td>tiberius</td>\n",
       "    </tr>\n",
       "    <tr>\n",
       "      <th>1195</th>\n",
       "      <td>73669</td>\n",
       "      <td>shivaji</td>\n",
       "    </tr>\n",
       "    <tr>\n",
       "      <th>...</th>\n",
       "      <td>...</td>\n",
       "      <td>...</td>\n",
       "    </tr>\n",
       "    <tr>\n",
       "      <th>1327</th>\n",
       "      <td>7535</td>\n",
       "      <td>latin literature</td>\n",
       "    </tr>\n",
       "    <tr>\n",
       "      <th>646</th>\n",
       "      <td>1264172</td>\n",
       "      <td>english studies</td>\n",
       "    </tr>\n",
       "    <tr>\n",
       "      <th>185</th>\n",
       "      <td>24349</td>\n",
       "      <td>bourbon restoration</td>\n",
       "    </tr>\n",
       "    <tr>\n",
       "      <th>1242</th>\n",
       "      <td>8998</td>\n",
       "      <td>nigeria</td>\n",
       "    </tr>\n",
       "    <tr>\n",
       "      <th>1033</th>\n",
       "      <td>104267</td>\n",
       "      <td>northern mindanao</td>\n",
       "    </tr>\n",
       "  </tbody>\n",
       "</table>\n",
       "<p>100 rows × 2 columns</p>\n",
       "</div>"
      ],
      "text/plain": [
       "      id_left            text_left\n",
       "218     73285      smokey robinson\n",
       "1341  1271109          gossip girl\n",
       "1047    13944              vermont\n",
       "1201    13000             tiberius\n",
       "1195    73669              shivaji\n",
       "...       ...                  ...\n",
       "1327     7535     latin literature\n",
       "646   1264172      english studies\n",
       "185     24349  bourbon restoration\n",
       "1242     8998              nigeria\n",
       "1033   104267    northern mindanao\n",
       "\n",
       "[100 rows x 2 columns]"
      ]
     },
     "execution_count": 121,
     "metadata": {},
     "output_type": "execute_result"
    }
   ],
   "source": [
    "training_sample = training.sample(100, random_state=123)\n",
    "training_sample"
   ]
  },
  {
   "cell_type": "markdown",
   "id": "24dea719",
   "metadata": {},
   "source": [
    "## Scoring by BM25 the training set"
   ]
  },
  {
   "cell_type": "code",
   "execution_count": 122,
   "id": "e8a596e3",
   "metadata": {},
   "outputs": [
    {
     "name": "stderr",
     "output_type": "stream",
     "text": [
      "C:\\Users\\kuany\\AppData\\Local\\Temp\\ipykernel_9276\\1182449633.py:6: ElasticsearchWarning: Elasticsearch built-in security features are not enabled. Without authentication, your cluster could be accessible to anyone. See https://www.elastic.co/guide/en/elasticsearch/reference/7.15/security-minimal-setup.html to enable security.\n",
      "  search_res = es.search(index='wikiir', query=make_query(row['text_left']), size=50)['hits']\n"
     ]
    }
   ],
   "source": [
    "# Creating query-doc-score nested dict\n",
    "\n",
    "query_doc = {}\n",
    "\n",
    "for i, row in training_sample.iterrows():\n",
    "    search_res = elasticsearch.search(index='wikiir', query=make_query(row['text_left']), size=50)['hits']\n",
    "    query_doc[str(row['id_left'])] = {}\n",
    "                 \n",
    "    for hit in search_res['hits']:\n",
    "        query_doc[str(row['id_left'])][hit['_id']] = hit['_score']"
   ]
  },
  {
   "cell_type": "markdown",
   "id": "038462d0",
   "metadata": {},
   "source": [
    "## Normalization"
   ]
  },
  {
   "cell_type": "code",
   "execution_count": 123,
   "id": "e4579673",
   "metadata": {},
   "outputs": [
    {
     "data": {
      "text/plain": [
       "{'940359': 1.0,\n",
       " '891183': 0.9070208971351378,\n",
       " '313257': 0.9009368372057258,\n",
       " '1178786': 0.8785646663768064,\n",
       " '2095859': 0.871778916620803,\n",
       " '1447257': 0.8535369073670035,\n",
       " '2095725': 0.8404417278844232,\n",
       " '73285': 0.8250473141737416,\n",
       " '1586500': 0.7998564413654435,\n",
       " '1586232': 0.7785803767705302,\n",
       " '1002413': 0.7463635909044294,\n",
       " '1288012': 0.7135760223178509,\n",
       " '2303869': 0.7065682158933247,\n",
       " '1228192': 0.6943614171838423,\n",
       " '1289415': 0.6569291504390781,\n",
       " '152342': 0.6206207277495096,\n",
       " '1741112': 0.4517866970796467,\n",
       " '1253150': 0.41229235447795154,\n",
       " '1746762': 0.3466904811271479,\n",
       " '122936': 0.31675251137077304,\n",
       " '2450230': 0.29875428674542825,\n",
       " '1284918': 0.26118980305299405,\n",
       " '1608426': 0.2539514645145816,\n",
       " '1587519': 0.24306182706408483,\n",
       " '889237': 0.22662547292022003,\n",
       " '1177941': 0.2222894350722713,\n",
       " '2135393': 0.2222894350722713,\n",
       " '1527105': 0.21535166664624847,\n",
       " '1399732': 0.21535166664624847,\n",
       " '711399': 0.21535166664624847,\n",
       " '1615027': 0.21535166664624847,\n",
       " '1130382': 0.20673059772153832,\n",
       " '2281101': 0.20673059772153832,\n",
       " '856266': 0.20673059772153832,\n",
       " '931217': 0.20673059772153832,\n",
       " '2142712': 0.20673059772153832,\n",
       " '801976': 0.18734132136353887,\n",
       " '1687890': 0.18734132136353887,\n",
       " '182530': 0.18734132136353887,\n",
       " '1383895': 0.18734132136353887,\n",
       " '273732': 0.18057406348832838,\n",
       " '1381228': 0.18057406348832838,\n",
       " '435754': 0.18057406348832838,\n",
       " '88974': 0.18016184864565077,\n",
       " '301448': 0.14856222930101687,\n",
       " '1823832': 0.10848053833563365,\n",
       " '2073272': 0.10848053833563365,\n",
       " '835275': 0.021869808067375703,\n",
       " '2449895': 0.0,\n",
       " '546487': 0.0}"
      ]
     },
     "execution_count": 123,
     "metadata": {},
     "output_type": "execute_result"
    }
   ],
   "source": [
    "def normalize_query_doc(query_doc):\n",
    "    '''\n",
    "    Description:\n",
    "        One way to normalize scores and bring them into a standard range is by using Min-Max normalization. \n",
    "        This method scales the values linearly to fit within the [0,1] range, with the minimum value being mapped to 0 and the maximum value to 1.\n",
    "    Args:\n",
    "        query_doc: queryid-document-score nested dict\n",
    "    Returns:\n",
    "        query_doc_norm: queryid-document-score nested dict with normalised scores\n",
    "    '''\n",
    "\n",
    "    query_doc_norm = {}\n",
    "    \n",
    "    for query in query_doc.keys():\n",
    "        query_doc_norm[query] = {}\n",
    "        \n",
    "        if len(query_doc[query].values()) == 0:\n",
    "            continue\n",
    "            \n",
    "        scores_min = min(query_doc[query].values())\n",
    "        scores_max = max(query_doc[query].values())\n",
    "                \n",
    "        for doc in query_doc[query].keys():\n",
    "            # division by zero only happens when search returns docs, all having the same score (min=max)\n",
    "            # so we consider the following cases\n",
    "            if scores_max-scores_min == 0:\n",
    "                query_doc_norm[query][doc] = (query_doc[query][doc]-scores_min)/scores_max\n",
    "            else:\n",
    "                query_doc_norm[query][doc] = (query_doc[query][doc]-scores_min)/(scores_max-scores_min)\n",
    "                \n",
    "    return query_doc_norm\n",
    "\n",
    "\n",
    "query_doc_norm = normalize_query_doc(query_doc)  # min-max normalizing BM25 scores\n",
    "query_doc_norm[next(iter(query_doc_norm))] # Example: first query normalized docs scores\n"
   ]
  },
  {
   "cell_type": "markdown",
   "id": "0545187d",
   "metadata": {},
   "source": [
    "## Accquiring cosine similarities for the training set"
   ]
  },
  {
   "cell_type": "code",
   "execution_count": 124,
   "id": "a4c631d9",
   "metadata": {},
   "outputs": [],
   "source": [
    "def get_cosine_similarity_training_document_from_model(model, query_doc): #\n",
    "    '''\n",
    "    Args:\n",
    "        model: SentenceTransformer model('msmarco-distilbert-cos-v5')\n",
    "        query_doc: queryid-document-score nested dict\n",
    "    Returns:\n",
    "        query_doc_cosine: queryid-document-cosine_similarity_score nested dict\n",
    "    '''\n",
    "\n",
    "    q_ids = list(query_doc.keys())  # q_ids -- list of strings\n",
    "    query_doc_cosine = {}\n",
    "\n",
    "    for q_id in tqdm(q_ids, total=len(q_ids), bar_format='{l_bar}{bar:30}{r_bar}{bar:-10b}'):\n",
    "        \n",
    "        # encoding the query\n",
    "        query_text = training_sample[training_sample['id_left']==int(q_id)].iloc[0]['text_left']\n",
    "        query_embedding = model.encode(query_text)\n",
    "        query_doc_cosine[q_id] = {}\n",
    "\n",
    "        # documents encoding\n",
    "        docs_texts = []\n",
    "        for doc_id in query_doc[str(q_id)]:\n",
    "            docs_texts.append(df[df['id_right']==int(doc_id)].iloc[0]['text_right'])\n",
    "        docs_embedding = model.encode(docs_texts)\n",
    "\n",
    "        # computing cosine similarity\n",
    "        if len(docs_embedding) == 0:\n",
    "            continue\n",
    "        cos_sim_score = util.cos_sim(query_embedding, docs_embedding)[0]\n",
    "        for i, doc_id in enumerate(query_doc[str(q_id)]):\n",
    "            query_doc_cosine[q_id][doc_id] = cos_sim_score[i].item()\n",
    "            \n",
    "    return query_doc_cosine"
   ]
  },
  {
   "cell_type": "code",
   "execution_count": 125,
   "id": "654834b0",
   "metadata": {},
   "outputs": [
    {
     "name": "stderr",
     "output_type": "stream",
     "text": [
      "100%|██████████████████████████████| 100/100 [12:15<00:00,  7.35s/it]                                                  \n"
     ]
    }
   ],
   "source": [
    "model = SentenceTransformer('msmarco-distilbert-cos-v5')\n",
    "#model = SentenceTransformer('msmarco-MiniLM-L6-cos-v5')\n",
    "\n",
    "query_doc_cosine = get_cosine_similarity_training_document_from_model(model, query_doc)"
   ]
  },
  {
   "cell_type": "markdown",
   "id": "2c36cbdf",
   "metadata": {},
   "source": [
    "## Getting the optimal alpha"
   ]
  },
  {
   "cell_type": "raw",
   "id": "a1d2c5c8",
   "metadata": {},
   "source": [
    "Formula:\n",
    "    alpha*BM25 + (1-alpha) * q_d_cosine_similarity"
   ]
  },
  {
   "cell_type": "code",
   "execution_count": 131,
   "id": "028b32f1",
   "metadata": {},
   "outputs": [],
   "source": [
    "def combine_function(query_doc1, query_doc2, alpha):\n",
    "    '''\n",
    "    Args:\n",
    "        query_doc1: scores of the first document\n",
    "        query_doc2: scores of the second document\n",
    "        alpha: \n",
    "    Returns:\n",
    "        query_doc_mix: combination of query_doc1 and query_doc2\n",
    "    '''\n",
    "\n",
    "    query_doc_mix = {}\n",
    "    \n",
    "    for query in query_doc1.keys():\n",
    "        query_doc_mix[query] = {}\n",
    "        \n",
    "        for doc in query_doc1[query].keys():\n",
    "            bm25 = query_doc1[query][doc]\n",
    "            cos_sim = query_doc2[query][doc]\n",
    "            \n",
    "            query_doc_mix[query][doc] = alpha*bm25 + (1-alpha)*cos_sim\n",
    "    \n",
    "    return query_doc_mix\n"
   ]
  },
  {
   "cell_type": "code",
   "execution_count": 132,
   "id": "051c8ab4",
   "metadata": {},
   "outputs": [],
   "source": [
    "# Retirieving training qrels\n",
    "samples_q_ids = training_sample['id_left'].values.tolist()\n",
    "\n",
    "qrels = list(ir_measures.read_trec_qrels('wikIR1k/train/qrels'))\n",
    "\n",
    "qrels_sample = []\n",
    "for qrel in qrels:\n",
    "    if int(qrel[0]) in samples_q_ids:\n",
    "        qrels_sample.append(qrel)"
   ]
  },
  {
   "cell_type": "code",
   "execution_count": 133,
   "id": "1db947d2",
   "metadata": {},
   "outputs": [
    {
     "data": {
      "text/plain": [
       "array([0.1, 0.2, 0.3, 0.4, 0.5, 0.6, 0.7, 0.8, 0.9, 1. ])"
      ]
     },
     "execution_count": 133,
     "metadata": {},
     "output_type": "execute_result"
    }
   ],
   "source": [
    "alpha_arr = np.arange(0.1, 1.1, 0.1)\n",
    "alpha_arr"
   ]
  },
  {
   "cell_type": "code",
   "execution_count": 139,
   "id": "07510cd6",
   "metadata": {},
   "outputs": [
    {
     "name": "stdout",
     "output_type": "stream",
     "text": [
      "alpha \t MAP@20\n",
      "---------------\n",
      " 0.2\t0.20377\n",
      " 0.3\t0.19877\n",
      " 0.1\t0.19826\n",
      " 0.4\t0.19535\n",
      " 0.5\t0.18978\n",
      " 0.6\t0.18328\n",
      " 0.7\t0.18095\n",
      " 0.8\t0.17577\n",
      " 0.9\t0.17394\n",
      " 1.0\t0.16886\n",
      "\n",
      "Best alpha: 0.2 , Score: 0.2037672374159032\n"
     ]
    }
   ],
   "source": [
    "results = {}\n",
    "\n",
    "for alpha in alpha_arr:\n",
    "    query_doc_mix = combine_function(query_doc_norm, query_doc_cosine, alpha)\n",
    "    map20 = ir_measures.calc_aggregate([MAP@20], qrels_sample, query_doc_mix)\n",
    "    map20 = list(map20.values())[0]\n",
    "    results[alpha] = map20\n",
    "    \n",
    "results_sorted = dict(sorted(results.items(), key=lambda item: item[1], reverse=True))\n",
    "\n",
    "print('alpha \\t MAP@20')\n",
    "print(\"---------------\")\n",
    "for alpha, score in results_sorted.items():\n",
    "    print(f' {round(alpha,1)}\\t{round(score,5)}')\n",
    "\n",
    "\n",
    "alpha_best_score = next(iter(results_sorted))\n",
    "\n",
    "print(\"\\nBest alpha:\",alpha_best_score, \", Score:\",results_sorted[alpha_best_score])"
   ]
  },
  {
   "cell_type": "markdown",
   "id": "fd9bcad4",
   "metadata": {},
   "source": [
    "##  Applying the combine function to test queries"
   ]
  },
  {
   "cell_type": "markdown",
   "id": "64494866",
   "metadata": {},
   "source": [
    "### Normalised BM25 scores"
   ]
  },
  {
   "cell_type": "code",
   "execution_count": 98,
   "id": "70fa3b8e",
   "metadata": {},
   "outputs": [
    {
     "name": "stderr",
     "output_type": "stream",
     "text": [
      "C:\\Users\\kuany\\AppData\\Local\\Temp\\ipykernel_9276\\3479613525.py:4: ElasticsearchWarning: Elasticsearch built-in security features are not enabled. Without authentication, your cluster could be accessible to anyone. See https://www.elastic.co/guide/en/elasticsearch/reference/7.15/security-minimal-setup.html to enable security.\n",
      "  search_res = es.search(index='wikiir', query=make_query(row['text_left']), size=50)['hits']\n"
     ]
    },
    {
     "name": "stdout",
     "output_type": "stream",
     "text": [
      "{P@20: 0.14700000000000005, P@10: 0.20599999999999988, AP@20: 0.14533487119899494}\n"
     ]
    }
   ],
   "source": [
    "query_doc_bm25 = {}\n",
    "\n",
    "for i, row in testing.iterrows():\n",
    "    search_res = elastic_search.search(index='wikiir', query=make_query(row['text_left']), size=50)['hits']\n",
    "    query_doc_bm25[str(row['id_left'])] = {}\n",
    "                 \n",
    "    for hit in search_res['hits']:\n",
    "        query_doc_bm25[str(row['id_left'])][hit['_id']] = hit['_score']\n",
    "\n",
    "qrels = ir_measures.read_trec_qrels('wikIR1k/test/qrels')\n",
    "print(ir_measures.calc_aggregate([P@10, P@20, MAP@20], qrels, query_doc_bm25))"
   ]
  },
  {
   "cell_type": "markdown",
   "id": "3131f626",
   "metadata": {},
   "source": [
    "### Normalized cosine similarity scores"
   ]
  },
  {
   "cell_type": "code",
   "execution_count": 106,
   "id": "a8e73408",
   "metadata": {},
   "outputs": [
    {
     "name": "stderr",
     "output_type": "stream",
     "text": [
      "100%|██████████████████████████████| 100/100 [12:08<00:00,  7.29s/it]                                                  \n"
     ]
    }
   ],
   "source": [
    "query_doc_cosine_2 = get_cosine_similarity_testing_document_from_model(model, query_doc_bm25)"
   ]
  },
  {
   "cell_type": "code",
   "execution_count": 111,
   "id": "daa35f05",
   "metadata": {},
   "outputs": [
    {
     "name": "stdout",
     "output_type": "stream",
     "text": [
      "{P@20: 0.15800000000000003, P@10: 0.23300000000000007, AP@20: 0.1763766531713263}\n"
     ]
    }
   ],
   "source": [
    "qrels = ir_measures.read_trec_qrels('wikIR1k/test/qrels')\n",
    "print(ir_measures.calc_aggregate([P@10, P@20, MAP@20], qrels, query_doc_cosine_2))\n"
   ]
  },
  {
   "cell_type": "markdown",
   "id": "edf93542",
   "metadata": {},
   "source": [
    "### Combination of BM25 and CosineSimilarity (alpha_best)"
   ]
  },
  {
   "cell_type": "code",
   "execution_count": 112,
   "id": "ea65960b",
   "metadata": {},
   "outputs": [],
   "source": [
    "# normalizing bm25 scores from testing\n",
    "query_doc_bm25_norm = normalize_query_doc(query_doc_bm25)"
   ]
  },
  {
   "cell_type": "code",
   "execution_count": 113,
   "id": "f3b8a3e7",
   "metadata": {},
   "outputs": [],
   "source": [
    "# combining BM25 and cosine similarity scores of testing using alpha best\n",
    "query_doc_final = combine_function(query_doc_bm25_norm, query_doc_cosine_2, alpha_best_score)"
   ]
  },
  {
   "cell_type": "code",
   "execution_count": 114,
   "id": "a828a5da",
   "metadata": {},
   "outputs": [
    {
     "name": "stdout",
     "output_type": "stream",
     "text": [
      "{P@20: 0.16450000000000006, P@10: 0.24200000000000008, AP@20: 0.18128666321804765}\n"
     ]
    }
   ],
   "source": [
    "# evaluation of combine scores\n",
    "qrels = ir_measures.read_trec_qrels('wikIR1k/test/qrels')\n",
    "print(ir_measures.calc_aggregate([P@10, P@20, MAP@20], qrels, query_doc_final))"
   ]
  },
  {
   "cell_type": "code",
   "execution_count": 115,
   "id": "ff4ed560",
   "metadata": {},
   "outputs": [
    {
     "data": {
      "text/plain": [
       "0.2"
      ]
     },
     "execution_count": 115,
     "metadata": {},
     "output_type": "execute_result"
    }
   ],
   "source": [
    "alpha_best_score"
   ]
  },
  {
   "cell_type": "markdown",
   "id": "9a344cf0",
   "metadata": {},
   "source": [
    "## Printing the scores of the first testing query id"
   ]
  },
  {
   "cell_type": "code",
   "execution_count": 145,
   "id": "cfabe136",
   "metadata": {},
   "outputs": [
    {
     "name": "stdout",
     "output_type": "stream",
     "text": [
      "Query ID:  158491\n",
      "Doc 1880296 , score 0.414\n",
      "Doc 607552 , score 0.504\n",
      "Doc 2261272 , score 0.348\n",
      "Doc 1957435 , score 0.48\n",
      "Doc 625257 , score 0.382\n",
      "Doc 635537 , score 0.585\n",
      "Doc 1774491 , score 0.437\n",
      "Doc 663828 , score 0.327\n",
      "Doc 158491 , score 0.499\n",
      "Doc 1956922 , score 0.277\n",
      "Doc 1180246 , score 0.257\n",
      "Doc 1170039 , score 0.339\n",
      "Doc 945068 , score 0.258\n",
      "Doc 360918 , score 0.434\n",
      "Doc 589549 , score 0.302\n",
      "Doc 685181 , score 0.295\n",
      "Doc 2411344 , score 0.197\n",
      "Doc 1158969 , score 0.337\n",
      "Doc 1093529 , score 0.334\n",
      "Doc 742912 , score 0.408\n",
      "Doc 967619 , score 0.302\n",
      "Doc 2337647 , score 0.151\n",
      "Doc 1059585 , score 0.342\n",
      "Doc 637819 , score 0.064\n",
      "Doc 1397771 , score 0.333\n",
      "---------------\n",
      "Doc 2225325 , score 0.197\n",
      "Doc 1079407 , score 0.177\n",
      "Doc 1485043 , score 0.167\n",
      "Doc 2390322 , score 0.153\n",
      "Doc 1422090 , score 0.306\n",
      "Doc 1490799 , score 0.238\n",
      "Doc 289756 , score 0.253\n",
      "Doc 547150 , score 0.135\n",
      "Doc 13801 , score 0.239\n",
      "Doc 621578 , score 0.251\n",
      "Doc 313493 , score 0.5\n",
      "Doc 345165 , score 0.332\n",
      "Doc 1454621 , score 0.316\n",
      "Doc 1744323 , score 0.133\n",
      "Doc 182202 , score 0.226\n",
      "Doc 2449064 , score 0.129\n",
      "Doc 2416831 , score 0.159\n",
      "Doc 1430204 , score 0.073\n",
      "Doc 2244838 , score 0.071\n",
      "Doc 1902205 , score 0.17\n",
      "Doc 899723 , score 0.05\n",
      "Doc 1094293 , score 0.107\n",
      "Doc 1097954 , score 0.126\n",
      "Doc 282791 , score 0.095\n",
      "Doc 1105213 , score 0.061\n"
     ]
    }
   ],
   "source": [
    "print(\"Query ID: \", list(query_doc_final.keys())[0])\n",
    "for i in range (50):\n",
    "    if i == 25:\n",
    "        print(\"---------------\")\n",
    "    print(\"Doc\",list(query_doc_final['158491'].keys())[i],\", score\",round(query_doc_final['158491'][list(query_doc_final['158491'].keys())[i]],3))"
   ]
  },
  {
   "cell_type": "code",
   "execution_count": null,
   "id": "9ca9211a",
   "metadata": {},
   "outputs": [],
   "source": []
  }
 ],
 "metadata": {
  "kernelspec": {
   "display_name": "Python 3 (ipykernel)",
   "language": "python",
   "name": "python3"
  },
  "language_info": {
   "codemirror_mode": {
    "name": "ipython",
    "version": 3
   },
   "file_extension": ".py",
   "mimetype": "text/x-python",
   "name": "python",
   "nbconvert_exporter": "python",
   "pygments_lexer": "ipython3",
   "version": "3.9.13"
  }
 },
 "nbformat": 4,
 "nbformat_minor": 5
}
